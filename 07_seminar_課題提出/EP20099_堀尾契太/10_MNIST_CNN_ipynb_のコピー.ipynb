{
  "cells": [
    {
      "cell_type": "markdown",
      "metadata": {
        "id": "xP6-w6Uxb6jR"
      },
      "source": [
        "# CNNによる画像認識（MNIST, PyTorch実装）\n",
        "\n",
        "\n",
        "---\n",
        "## 目的\n",
        "PyTorch実装による畳み込みニューラルネットワーク（CNN）を用いてMNISTデータセットに対する文字認識を行う．\n",
        "評価はConfusion Matrixにより各クラスの認識率を用いて行う．\n",
        "\n",
        "また，GPUを用いたネットワークの計算を行う．"
      ]
    },
    {
      "cell_type": "markdown",
      "metadata": {
        "id": "5rQGfxWYK_4O"
      },
      "source": [
        "## 準備\n",
        "\n",
        "### Google Colaboratoryの設定確認・変更\n",
        "本チュートリアルではPyTorchを利用してニューラルネットワークの実装を確認，学習および評価を行います．\n",
        "**GPUを用いて処理を行うために，上部のメニューバーの「ランタイム」→「ランタイムのタイプを変更」からハードウェアアクセラレータをGPUにしてください．**"
      ]
    },
    {
      "cell_type": "markdown",
      "metadata": {
        "id": "RsGSLNkYQmkG"
      },
      "source": [
        "## モジュールのインポート\n",
        "はじめに必要なモジュールをインポートする．"
      ]
    },
    {
      "cell_type": "code",
      "execution_count": 8,
      "metadata": {
        "id": "SLeGt2xaNFOB"
      },
      "outputs": [],
      "source": [
        "from time import time\n",
        "import torch\n",
        "import torch.nn as nn\n",
        "\n",
        "import torchvision\n",
        "import torchvision.transforms as transforms\n",
        "\n",
        "import torchsummary"
      ]
    },
    {
      "cell_type": "markdown",
      "metadata": {
        "id": "FjrYHYpuLbrx"
      },
      "source": [
        "### GPUの確認\n",
        "GPUを使用した計算が可能かどうかを確認します．\n",
        "\n",
        "`Use CUDA: True`と表示されれば，GPUを使用した計算をPyTorchで行うことが可能です．\n",
        "Falseとなっている場合は，上記の「Google Colaboratoryの設定確認・変更」に記載している手順にしたがって，設定を変更した後に，モジュールのインポートから始めてください．"
      ]
    },
    {
      "cell_type": "code",
      "execution_count": 9,
      "metadata": {
        "id": "6wYHKJ-WLbry",
        "colab": {
          "base_uri": "https://localhost:8080/"
        },
        "outputId": "5ef04666-1e25-438a-a192-63a34516c8f1"
      },
      "outputs": [
        {
          "output_type": "stream",
          "name": "stdout",
          "text": [
            "Use CUDA: True\n"
          ]
        }
      ],
      "source": [
        "use_cuda = torch.cuda.is_available()\n",
        "print('Use CUDA:', use_cuda)"
      ]
    },
    {
      "cell_type": "markdown",
      "metadata": {
        "id": "Ue60y-upamyo"
      },
      "source": [
        "## データセットの読み込みと確認\n",
        "学習データ（MNIST Dataset）を読み込みます．"
      ]
    },
    {
      "cell_type": "code",
      "execution_count": 10,
      "metadata": {
        "id": "n7zpMk-4axYm",
        "colab": {
          "base_uri": "https://localhost:8080/"
        },
        "outputId": "084bc261-90de-46ba-f052-78d1b30a5641"
      },
      "outputs": [
        {
          "output_type": "stream",
          "name": "stdout",
          "text": [
            "Files already downloaded and verified\n",
            "Files already downloaded and verified\n",
            "Dataset CIFAR10\n",
            "    Number of datapoints: 50000\n",
            "    Root location: ./\n",
            "    Split: Train\n",
            "    StandardTransform\n",
            "Transform: ToTensor()\n",
            "Dataset CIFAR10\n",
            "    Number of datapoints: 10000\n",
            "    Root location: ./\n",
            "    Split: Test\n",
            "    StandardTransform\n",
            "Transform: ToTensor()\n"
          ]
        }
      ],
      "source": [
        "train_data = torchvision.datasets.CIFAR10(root=\"./\", train=True, transform=transforms.ToTensor(), download=True)\n",
        "test_data = torchvision.datasets.CIFAR10(root=\"./\", train=False, transform=transforms.ToTensor(), download=True)\n",
        "\n",
        "print(train_data)\n",
        "print(test_data)"
      ]
    },
    {
      "cell_type": "markdown",
      "metadata": {
        "id": "G418kZOgToXR"
      },
      "source": [
        "## ネットワークモデルの定義\n",
        "\n",
        "畳み込みニューラルネットワークを定義します．\n",
        "\n",
        "ここでは，畳み込み層２層，全結合層３層から構成されるネットワークとします．\n",
        "\n",
        "1層目の畳み込み層は入力チャンネル数が1，出力する特徴マップ数が16，畳み込むフィルタサイズが3x3です．\n",
        "2層目の畳み込み層は入力チャネル数が16．出力する特徴マップ数が32，畳み込むフィルタサイズは同じく3x3です．\n",
        "１つ目の全結合層は入力ユニット数は`7*7*32`とし，出力は1024としています．\n",
        "次の全結合層入力，出力共に1024，出力層は入力が1024，出力が10です．\n",
        "また，活性化関数として`self.act`にシグモイド関数を定義します．\n",
        "さらに，プーリング処理を行うための`self.pool`を定義します．\n",
        "ここでは，maxpoolingを使用します．\n",
        "これらの各層の構成を`__init__`関数で定義します．\n",
        "\n",
        "次に，`forward`関数では，定義した層を接続して処理するように記述します．\n",
        "`forward`関数の引数`x`は入力データです．\n",
        "それを`__init__`関数で定義した`conv1`に入力し，その出力を活性化関数である`self.act`に与えます．\n",
        "そして，その出力を`self.pool`に与えて，プーリング処理結果を`h`として出力します．\n",
        "2層目の畳み込み層でも同様の手順で処理を行います．\n",
        "\n",
        "畳み込みを適用した後の特徴マップを全結合層へと入力して，識別結果を出力します．\n",
        "まず．畳み込みによって得られた特徴マップの形状（チャンネルx縦x横）を1次元の配列へと変換します．\n",
        "ここで，`view()`を用いることで，`h`の配列を操作します．引数として，変換したい配列のサイズを入力します．\n",
        "まず一つ目の引数の`h.size()[0]`で，`h`の1次元目のサイズを取得し，変換後の配列の1次元目のサイズとして指定します．\n",
        "二つ目の引数の`-1`で任意のサイズを指定します．\n",
        "これにより，`h`を（バッチ数x任意の長さのデータ）の形状へ変換します．\n",
        "変換した`h`を全結合層および活性化関数へと順次入力することで，最終的にクラススコアを返します．"
      ]
    },
    {
      "cell_type": "code",
      "execution_count": 17,
      "metadata": {
        "id": "8FJhkBJnTuPd"
      },
      "outputs": [],
      "source": [
        "class CNN(nn.Module):\n",
        "    def __init__(self):\n",
        "        super(CNN, self).__init__()\n",
        "        self.conv1 = nn.Conv2d(3, 16, kernel_size=3, stride=1, padding=1)\n",
        "        self.conv2 = nn.Conv2d(16, 32, kernel_size=3, stride=1, padding=1)\n",
        "        self.conv3 = nn.Conv2d(32, 64, kernel_size=3, stride=1, padding=1)\n",
        "        self.l1 = nn.Linear(8 * 8 * 16, 1024)\n",
        "        self.l2 = nn.Linear(1024, 1024)\n",
        "        self.l3 = nn.Linear(1024, 1024)\n",
        "        self.l4 = nn.Linear(1024, 10)\n",
        "        self.act = nn.ReLU()\n",
        "        self.pool = nn.MaxPool2d(2, 2)\n",
        "    \n",
        "    def forward(self, x):\n",
        "        h = self.pool(self.act(self.conv1(x)))\n",
        "        h = self.pool(self.act(self.conv2(h)))\n",
        "        h = self.pool(self.act(self.conv3(h)))\n",
        "        h = h.view(h.size()[0], -1)\n",
        "        h = self.act(self.l1(h))\n",
        "        h = self.act(self.l2(h))\n",
        "        h = self.act(self.l3(h))\n",
        "        h = self.l4(h)\n",
        "        return h"
      ]
    },
    {
      "cell_type": "markdown",
      "metadata": {
        "id": "ijVjOGVhb6vs"
      },
      "source": [
        "## ネットワークの作成\n",
        "上のプログラムで定義したネットワークを作成します．\n",
        "\n",
        "`CNN`クラスを呼び出して，ネットワークモデルを定義します．\n",
        "また，GPUを使う場合（`use_cuda == True`）には，ネットワークモデルをGPUメモリ上に配置します．\n",
        "これにより，GPUを用いた演算が可能となります．\n",
        "\n",
        "学習を行う際の最適化方法としてモーメンタムSGD(モーメンタム付き確率的勾配降下法）を利用します．\n",
        "また，学習率を0.01，モーメンタムを0.9として引数に与えます．\n",
        "\n",
        "最後に，定義したネットワークの詳細情報を`torchsummary.summary()`関数を用いて表示します．"
      ]
    },
    {
      "cell_type": "code",
      "execution_count": 18,
      "metadata": {
        "id": "SyfYfpXvb62g",
        "colab": {
          "base_uri": "https://localhost:8080/"
        },
        "outputId": "68a40802-5164-4056-ab67-09a630c711f7"
      },
      "outputs": [
        {
          "output_type": "stream",
          "name": "stdout",
          "text": [
            "----------------------------------------------------------------\n",
            "        Layer (type)               Output Shape         Param #\n",
            "================================================================\n",
            "            Conv2d-1           [-1, 16, 32, 32]             448\n",
            "              ReLU-2           [-1, 16, 32, 32]               0\n",
            "         MaxPool2d-3           [-1, 16, 16, 16]               0\n",
            "            Conv2d-4           [-1, 32, 16, 16]           4,640\n",
            "              ReLU-5           [-1, 32, 16, 16]               0\n",
            "         MaxPool2d-6             [-1, 32, 8, 8]               0\n",
            "            Conv2d-7             [-1, 64, 8, 8]          18,496\n",
            "              ReLU-8             [-1, 64, 8, 8]               0\n",
            "         MaxPool2d-9             [-1, 64, 4, 4]               0\n",
            "           Linear-10                 [-1, 1024]       1,049,600\n",
            "             ReLU-11                 [-1, 1024]               0\n",
            "           Linear-12                 [-1, 1024]       1,049,600\n",
            "             ReLU-13                 [-1, 1024]               0\n",
            "           Linear-14                 [-1, 1024]       1,049,600\n",
            "             ReLU-15                 [-1, 1024]               0\n",
            "           Linear-16                   [-1, 10]          10,250\n",
            "================================================================\n",
            "Total params: 3,182,634\n",
            "Trainable params: 3,182,634\n",
            "Non-trainable params: 0\n",
            "----------------------------------------------------------------\n",
            "Input size (MB): 0.01\n",
            "Forward/backward pass size (MB): 0.54\n",
            "Params size (MB): 12.14\n",
            "Estimated Total Size (MB): 12.69\n",
            "----------------------------------------------------------------\n"
          ]
        }
      ],
      "source": [
        "model = CNN()\n",
        "if use_cuda:\n",
        "    model.cuda()\n",
        "\n",
        "optimizer = torch.optim.SGD(model.parameters(), lr=0.005 , momentum=0.9)\n",
        "\n",
        "torchsummary.summary(model, (3, 32, 32))"
      ]
    },
    {
      "cell_type": "markdown",
      "metadata": {
        "id": "lhbw4THgb680"
      },
      "source": [
        "## 学習\n",
        "読み込んだMNISTデータセットと作成したネットワークを用いて，学習を行います．\n",
        "\n",
        "1回の誤差を算出するデータ数（ミニバッチサイズ）を100，学習エポック数を10とします．\n",
        "\n",
        "次にデータローダーを定義します．\n",
        "データローダーでは，上で読み込んだデータセット（`train_data`）を用いて，for文で指定したミニバッチサイズでデータを読み込むオブジェクトを作成します．\n",
        "この時，`shuffle=True`と設定することで，読み込むデータを毎回ランダムに指定します．\n",
        "\n",
        "次に，誤差関数を設定します．\n",
        "今回は，分類問題をあつかうため，クロスエントロピー誤差を計算するための`CrossEntropyLoss`を`criterion`として定義します．\n",
        "\n",
        "学習を開始します．\n",
        "\n",
        "各更新において，学習用データと教師データをそれぞれ`image`と`label`とします．\n",
        "学習モデルにimageを与えて各クラスの確率yを取得します．\n",
        "各クラスの確率yと教師ラベルtとの誤差を`criterion`で算出します．\n",
        "また，認識精度も算出します．\n",
        "そして，誤差をbackward関数で逆伝播し，ネットワークの更新を行います．"
      ]
    },
    {
      "cell_type": "code",
      "execution_count": 19,
      "metadata": {
        "id": "UsBaxg2Wb7Dp",
        "colab": {
          "base_uri": "https://localhost:8080/"
        },
        "outputId": "b75f5ed4-6a91-4c3d-dd05-0dd61547e7a9"
      },
      "outputs": [
        {
          "output_type": "stream",
          "name": "stdout",
          "text": [
            "epoch: 1, mean loss: 2.304597350463867, mean accuracy: 0.10318, elapsed_time :10.157975673675537\n",
            "epoch: 2, mean loss: 2.301850111083984, mean accuracy: 0.12554, elapsed_time :20.10843300819397\n",
            "epoch: 3, mean loss: 2.1759660931396483, mean accuracy: 0.20504, elapsed_time :29.944050312042236\n",
            "epoch: 4, mean loss: 1.951954525756836, mean accuracy: 0.28182, elapsed_time :40.07782292366028\n",
            "epoch: 5, mean loss: 1.7519884829711914, mean accuracy: 0.36508, elapsed_time :50.22910165786743\n",
            "epoch: 6, mean loss: 1.543831430053711, mean accuracy: 0.43976, elapsed_time :60.339149713516235\n",
            "epoch: 7, mean loss: 1.4315484982299804, mean accuracy: 0.48392, elapsed_time :70.57532691955566\n",
            "epoch: 8, mean loss: 1.3307222198486328, mean accuracy: 0.51942, elapsed_time :80.43147850036621\n",
            "epoch: 9, mean loss: 1.2395378854370118, mean accuracy: 0.55706, elapsed_time :90.03746771812439\n",
            "epoch: 10, mean loss: 1.1339128593444825, mean accuracy: 0.59448, elapsed_time :100.03106951713562\n",
            "epoch: 11, mean loss: 1.053352953338623, mean accuracy: 0.62552, elapsed_time :110.11163663864136\n",
            "epoch: 12, mean loss: 0.9706426629638671, mean accuracy: 0.6566, elapsed_time :120.123690366745\n",
            "epoch: 13, mean loss: 0.8968956690979004, mean accuracy: 0.68276, elapsed_time :130.18745946884155\n",
            "epoch: 14, mean loss: 0.8327339694213867, mean accuracy: 0.70594, elapsed_time :139.72757029533386\n",
            "epoch: 15, mean loss: 0.761557557220459, mean accuracy: 0.7311, elapsed_time :149.79998326301575\n",
            "epoch: 16, mean loss: 0.7048164833068847, mean accuracy: 0.75154, elapsed_time :159.73977708816528\n",
            "epoch: 17, mean loss: 0.6298626095581055, mean accuracy: 0.77974, elapsed_time :169.946923494339\n",
            "epoch: 18, mean loss: 0.5662350351715087, mean accuracy: 0.79926, elapsed_time :180.4222447872162\n",
            "epoch: 19, mean loss: 0.5154876867675782, mean accuracy: 0.81718, elapsed_time :190.48867106437683\n",
            "epoch: 20, mean loss: 0.4406595539855957, mean accuracy: 0.84466, elapsed_time :199.9665801525116\n",
            "epoch: 21, mean loss: 0.3751361937713623, mean accuracy: 0.86784, elapsed_time :209.91483068466187\n",
            "epoch: 22, mean loss: 0.3179599514389038, mean accuracy: 0.88864, elapsed_time :219.89387845993042\n",
            "epoch: 23, mean loss: 0.26255313331604, mean accuracy: 0.90614, elapsed_time :229.96910309791565\n",
            "epoch: 24, mean loss: 0.20599334583282472, mean accuracy: 0.92582, elapsed_time :239.9376299381256\n",
            "epoch: 25, mean loss: 0.15869026334762573, mean accuracy: 0.94514, elapsed_time :249.60067653656006\n"
          ]
        }
      ],
      "source": [
        "batch_size = 128\n",
        "epoch_num = 25\n",
        "n_iter = len(train_data) / batch_size\n",
        "\n",
        "train_loader = torch.utils.data.DataLoader(train_data, batch_size=batch_size, shuffle=True)\n",
        "\n",
        "criterion = nn.CrossEntropyLoss()\n",
        "if use_cuda:\n",
        "    criterion.cuda()\n",
        "model.train()\n",
        "\n",
        "start = time()\n",
        "for epoch in range(1, epoch_num+1):\n",
        "    sum_loss = 0.0\n",
        "    count = 0\n",
        "    \n",
        "    for image, label in train_loader:\n",
        "        \n",
        "        if use_cuda:\n",
        "            image = image.cuda()\n",
        "            label = label.cuda()\n",
        "            \n",
        "        y = model(image)\n",
        "        \n",
        "        loss = criterion(y, label)\n",
        "        \n",
        "        model.zero_grad()\n",
        "        loss.backward()\n",
        "        optimizer.step()\n",
        "        \n",
        "        sum_loss += loss.item()\n",
        "        \n",
        "        pred = torch.argmax(y, dim=1)\n",
        "        count += torch.sum(pred == label)\n",
        "        \n",
        "    print(\"epoch: {}, mean loss: {}, mean accuracy: {}, elapsed_time :{}\".format(epoch,\n",
        "                                                                                 sum_loss / n_iter,\n",
        "                                                                                 count.item() / len(train_data),\n",
        "                                                                                 time() - start))"
      ]
    },
    {
      "cell_type": "markdown",
      "metadata": {
        "id": "f5oxc_C-b6g9"
      },
      "source": [
        "## テスト\n",
        "\n",
        "学習したネットワークを用いて，テストデータに対する認識率の確認を行います．\n",
        "\n",
        "`model.eval()`を適用することで，ネットワーク演算を評価モードへ変更します．\n",
        "これにより，学習時と評価時で挙動が異なる演算（dropout等）を変更することが可能です．\n",
        "また，`torch.no_grad()`を適用することで，学習時には必要になる勾配情報を保持することなく演算を行います．"
      ]
    },
    {
      "cell_type": "code",
      "execution_count": 20,
      "metadata": {
        "id": "eDwQ-iJtjSaL",
        "colab": {
          "base_uri": "https://localhost:8080/"
        },
        "outputId": "1bdebecf-3bd8-4c76-b214-1296bee14500"
      },
      "outputs": [
        {
          "output_type": "stream",
          "name": "stdout",
          "text": [
            "test accuracy: 0.7092\n"
          ]
        }
      ],
      "source": [
        "# データローダーの準備\n",
        "test_loader = torch.utils.data.DataLoader(test_data, batch_size=100, shuffle=False)\n",
        "\n",
        "# ネットワークを評価モードへ変更\n",
        "model.eval()\n",
        "\n",
        "# 評価の実行\n",
        "count = 0\n",
        "with torch.no_grad():  # 勾配を計算しない設定にする (loss.backwardをしても勾配情報が計算されない)\n",
        "    for image, label in test_loader:\n",
        "\n",
        "        if use_cuda:\n",
        "            image = image.cuda()\n",
        "            label = label.cuda()\n",
        "            \n",
        "        y = model(image)\n",
        "\n",
        "        pred = torch.argmax(y, dim=1)\n",
        "        count += torch.sum(pred == label)\n",
        "\n",
        "print(\"test accuracy: {}\".format(count.item() / 10000.))"
      ]
    },
    {
      "cell_type": "markdown",
      "metadata": {
        "id": "RO9gksBuj0qm"
      },
      "source": [
        "## 課題\n",
        "\n",
        "\n",
        "### 1. GPUを用いた場合とCPUを用いた場合の学習での計算時間の違いを確認しましょう．\n",
        "\n",
        "**ヒント**\n",
        "\n",
        "GPUとCPUの切り替えは「GPUの確認」というセル（本ページ上部）にある`use_cuda`の`True`, `False`を変更することで，切り替えが可能です．\n",
        "\n",
        "\n",
        "### 2. ネットワークの構造を変更し，認識精度の変化を確認しましょう．\n",
        "\n",
        "**ヒント：ネットワーク構造の変更としては，次のようなものが考えられます．**\n",
        "* 中間層のユニット数\n",
        "* 層の数\n",
        "* 活性化関数\n",
        "  * `nn.Tanh()`や`nn.ReLU()`, `nn.LeakyReLU()`などが考えられます．\n",
        "  * その他のPyTorchで使用できる活性化関数は[こちらページ](https://pytorch.org/docs/stable/nn.html#non-linear-activations-weighted-sum-nonlinearity)にまとめられています．\n",
        "\n",
        "※ ネットワーク構造を変更した際には，`torchsummary.summary(***)`を使用し，ネットワーク構造を変更した際のパラメータ数の変化を確認してみましょう．\n",
        "\n",
        "\n",
        "### 3. 学習の設定を変更し，認識精度の変化を確認しましょう．\n",
        "\n",
        "**ヒント：プログラムの中で変更で切る設定は次のようなものが存在します．**\n",
        "* ミニバッチサイズ\n",
        "* 学習回数（Epoch数）\n",
        "* 学習率\n",
        "* 最適化手法\n",
        "  * `torch.optim.Adagrad()`や`torch.optim.Adam()`などが考えられます．\n",
        "  * PyTorchで使用できる最適化手法は[こちらのページ](https://pytorch.org/docs/stable/optim.html#algorithms)にまとめられています．\n",
        "\n"
      ]
    }
  ],
  "metadata": {
    "accelerator": "GPU",
    "colab": {
      "provenance": []
    },
    "kernelspec": {
      "display_name": "Python 3",
      "language": "python",
      "name": "python3"
    },
    "language_info": {
      "codemirror_mode": {
        "name": "ipython",
        "version": 3
      },
      "file_extension": ".py",
      "mimetype": "text/x-python",
      "name": "python",
      "nbconvert_exporter": "python",
      "pygments_lexer": "ipython3",
      "version": "3.7.9"
    },
    "gpuClass": "standard"
  },
  "nbformat": 4,
  "nbformat_minor": 0
}